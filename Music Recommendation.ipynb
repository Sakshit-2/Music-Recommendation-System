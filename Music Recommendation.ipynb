{
 "cells": [
  {
   "cell_type": "code",
   "execution_count": null,
   "id": "3b45badc",
   "metadata": {},
   "outputs": [],
   "source": [
    "import pandas as pd\n",
    "import numpy as np\n",
    "from matplotlib import pyplot\n",
    "import seaborn as sns"
   ]
  },
  {
   "cell_type": "code",
   "execution_count": null,
   "id": "b05505c8",
   "metadata": {},
   "outputs": [],
   "source": [
    "data = pd.read_csv(r\"C:\\Users\\welcome\\Desktop\\Data Sets\\spotify_data_12_20_2023.csv\")"
   ]
  },
  {
   "cell_type": "code",
   "execution_count": null,
   "id": "6b25d690",
   "metadata": {},
   "outputs": [],
   "source": [
    "data.head(5)"
   ]
  },
  {
   "cell_type": "code",
   "execution_count": null,
   "id": "0197676d",
   "metadata": {},
   "outputs": [],
   "source": [
    "data.info()"
   ]
  },
  {
   "cell_type": "code",
   "execution_count": null,
   "id": "59763ef2",
   "metadata": {},
   "outputs": [],
   "source": [
    "Cat_Columns=data.select_dtypes(include=\"object\").columns"
   ]
  },
  {
   "cell_type": "code",
   "execution_count": null,
   "id": "d89448a5",
   "metadata": {},
   "outputs": [],
   "source": [
    "for col in Cat_Columns:\n",
    "    print(col +' :'+ str(data[col].nunique()))"
   ]
  },
  {
   "cell_type": "code",
   "execution_count": null,
   "id": "11147fcb",
   "metadata": {},
   "outputs": [],
   "source": [
    "data['album_type'].value_counts()"
   ]
  },
  {
   "cell_type": "code",
   "execution_count": null,
   "id": "49d177e4",
   "metadata": {},
   "outputs": [],
   "source": [
    "data[\"type\"].value_counts()"
   ]
  },
  {
   "cell_type": "code",
   "execution_count": null,
   "id": "204e5e85",
   "metadata": {},
   "outputs": [],
   "source": [
    "data[\"explicit\"].value_counts()"
   ]
  },
  {
   "cell_type": "code",
   "execution_count": null,
   "id": "413224c0",
   "metadata": {},
   "outputs": [],
   "source": [
    "data[\"release_month\"].value_counts()"
   ]
  },
  {
   "cell_type": "code",
   "execution_count": null,
   "id": "95bc9068",
   "metadata": {},
   "outputs": [],
   "source": [
    "Num_Columns=data.select_dtypes(include=\"number\").columns"
   ]
  },
  {
   "cell_type": "code",
   "execution_count": null,
   "id": "5b6046c5",
   "metadata": {},
   "outputs": [],
   "source": [
    "data.describe()"
   ]
  },
  {
   "cell_type": "code",
   "execution_count": null,
   "id": "47d75b78",
   "metadata": {},
   "outputs": [],
   "source": [
    "data.drop_duplicates()"
   ]
  },
  {
   "cell_type": "code",
   "execution_count": null,
   "id": "b2ecf50a",
   "metadata": {},
   "outputs": [],
   "source": [
    "data.isna().sum()"
   ]
  },
  {
   "cell_type": "code",
   "execution_count": null,
   "id": "a2051d60",
   "metadata": {},
   "outputs": [],
   "source": [
    "data.dropna(subset=['mode','explicit','track_popularity','release_year', 'release_month', 'track_name','release_date','label'], inplace=True)"
   ]
  },
  {
   "cell_type": "code",
   "execution_count": null,
   "id": "0bf9e515",
   "metadata": {
    "scrolled": true
   },
   "outputs": [],
   "source": [
    "data.isna().sum()"
   ]
  },
  {
   "cell_type": "code",
   "execution_count": null,
   "id": "ab09e320",
   "metadata": {},
   "outputs": [],
   "source": [
    "data[\"artist_1\"].nunique()"
   ]
  },
  {
   "cell_type": "code",
   "execution_count": null,
   "id": "df815d62",
   "metadata": {},
   "outputs": [],
   "source": [
    "data[\"genre_4\"]"
   ]
  },
  {
   "cell_type": "code",
   "execution_count": null,
   "id": "48142233",
   "metadata": {},
   "outputs": [],
   "source": [
    "data.head(20)"
   ]
  },
  {
   "cell_type": "code",
   "execution_count": null,
   "id": "b31132ac",
   "metadata": {},
   "outputs": [],
   "source": [
    "data.drop(\"artists\", axis=1)"
   ]
  },
  {
   "cell_type": "code",
   "execution_count": null,
   "id": "a6fe22ae",
   "metadata": {},
   "outputs": [],
   "source": [
    "data[\"artist_0\"].fillna(\"unknown\", inplace=True)\n",
    "data[\"artist_1\"].fillna(\"unknown\", inplace=True)\n",
    "data[\"artist_2\"].fillna(\"unknown\", inplace=True)\n",
    "data[\"artist_3\"].fillna(\"unknown\", inplace=True)\n",
    "data[\"artist_4\"].fillna(\"unknown\", inplace=True)"
   ]
  },
  {
   "cell_type": "code",
   "execution_count": null,
   "id": "a8c78a7a",
   "metadata": {},
   "outputs": [],
   "source": [
    "data[\"genre_0\"].fillna(\"unknown\", inplace=True)\n",
    "data[\"genre_1\"].fillna(\"unknown\", inplace=True)\n",
    "data[\"genre_2\"].fillna(\"unknown\", inplace=True)\n",
    "data[\"genre_3\"].fillna(\"unknown\", inplace=True)\n",
    "data[\"genre_4\"].fillna(\"unknown\", inplace=True)"
   ]
  },
  {
   "cell_type": "code",
   "execution_count": null,
   "id": "6a178755",
   "metadata": {},
   "outputs": [],
   "source": [
    "data.isna().sum()"
   ]
  },
  {
   "cell_type": "code",
   "execution_count": null,
   "id": "162cfa03",
   "metadata": {},
   "outputs": [],
   "source": [
    "for col in Num_Columns:\n",
    "    sns.boxplot(x=col, data=data)\n",
    "    plt.show()"
   ]
  },
  {
   "cell_type": "code",
   "execution_count": null,
   "id": "2e47b6dc",
   "metadata": {},
   "outputs": [],
   "source": [
    "for col in Num_Columns:\n",
    "    IQR=data[col].quantile(0.75)-data[col].quantile(0.25)\n",
    "    lower=data[col].quantile(0.25) - 1.5*IQR\n",
    "    upper=data[col].quantile(0.75) + 1.5*IQR\n",
    "    outlier=(data[col]<=lower)|(data[col]>=upper)\n",
    "    data.drop(data[outlier].index, inplace=True)"
   ]
  },
  {
   "cell_type": "code",
   "execution_count": null,
   "id": "de6d9321",
   "metadata": {},
   "outputs": [],
   "source": [
    "for col in Num_Columns:\n",
    "    sns.boxplot(x=col, data=data)\n",
    "    plt.show()"
   ]
  },
  {
   "cell_type": "code",
   "execution_count": null,
   "id": "d6d6ecf6",
   "metadata": {},
   "outputs": [],
   "source": [
    "for col in Num_Columns:\n",
    "     sns.histplot(x=col, data=data, kde=True)\n",
    "     plt.show()"
   ]
  },
  {
   "cell_type": "code",
   "execution_count": null,
   "id": "daa86a81",
   "metadata": {},
   "outputs": [],
   "source": [
    "for col in Cat_Columns:\n",
    "     sns.countplot(x=col, data=data)\n",
    "     plt.xticks(rotation=90)\n",
    "     plt.show()"
   ]
  },
  {
   "cell_type": "code",
   "execution_count": null,
   "id": "a7cc86bf",
   "metadata": {},
   "outputs": [],
   "source": [
    "data.corr()\n",
    "sns.heatmap(data.corr(), annot=True, cmap='coolwarm', fmt=\".4f\", linewidths=.5)"
   ]
  },
  {
   "cell_type": "code",
   "execution_count": null,
   "id": "a1e6fab7",
   "metadata": {},
   "outputs": [],
   "source": []
  }
 ],
 "metadata": {
  "kernelspec": {
   "display_name": "Python 3 (ipykernel)",
   "language": "python",
   "name": "python3"
  },
  "language_info": {
   "codemirror_mode": {
    "name": "ipython",
    "version": 3
   },
   "file_extension": ".py",
   "mimetype": "text/x-python",
   "name": "python",
   "nbconvert_exporter": "python",
   "pygments_lexer": "ipython3",
   "version": "3.9.13"
  }
 },
 "nbformat": 4,
 "nbformat_minor": 5
}
